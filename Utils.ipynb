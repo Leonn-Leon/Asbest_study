{
 "cells": [
  {
   "cell_type": "code",
   "execution_count": 1,
   "id": "ae6370d3-208d-4970-8932-6201d1281215",
   "metadata": {
    "tags": []
   },
   "outputs": [],
   "source": [
    "import torch"
   ]
  },
  {
   "cell_type": "code",
   "execution_count": null,
   "id": "969a776b-cb71-4aea-9968-38bb5394e499",
   "metadata": {},
   "outputs": [],
   "source": [
    "torch.nn.Module"
   ]
  },
  {
   "cell_type": "code",
   "execution_count": 9,
   "id": "2cec1ecf-288d-4c50-a9af-a26900ae107b",
   "metadata": {
    "tags": []
   },
   "outputs": [
    {
     "data": {
      "text/plain": [
       "tensor([inf])"
      ]
     },
     "execution_count": 9,
     "metadata": {},
     "output_type": "execute_result"
    }
   ],
   "source": [
    "torch.ones(1)/(torch.zeros(1))"
   ]
  },
  {
   "cell_type": "code",
   "execution_count": 1,
   "id": "7c3b97ec-b86c-4b9f-be64-f52bb295591e",
   "metadata": {
    "tags": []
   },
   "outputs": [
    {
     "name": "stdout",
     "output_type": "stream",
     "text": [
      "Archive:  /storage/vskovoroda/Stones/full_dataset.zip\n",
      "  inflating: /storage/vskovoroda/Stones/Asbest veins in the open pit conditions/parts45769.zip  \n",
      "  inflating: /storage/vskovoroda/Stones/Asbest veins in the open pit conditions/part2.zip  \n",
      "  inflating: /storage/vskovoroda/Stones/Asbest veins in the open pit conditions/part1.zip  \n",
      "  inflating: /storage/vskovoroda/Stones/Asbest veins in the open pit conditions/part11.zip  \n",
      "  inflating: /storage/vskovoroda/Stones/Asbest veins in the open pit conditions/part3.zip  \n"
     ]
    }
   ],
   "source": [
    "!unzip -o \"/storage/vskovoroda/Stones/full_dataset.zip\" -d \"/storage/vskovoroda/Stones/\""
   ]
  },
  {
   "cell_type": "code",
   "execution_count": 2,
   "id": "1d4af448-d8c6-4f99-99eb-13a297abc001",
   "metadata": {
    "tags": []
   },
   "outputs": [],
   "source": [
    "!mv -f \"/storage/vskovoroda/Stones/Asbest veins in the open pit conditions/parts45769.zip\" -t \"/storage/vskovoroda/Stones/\"\n",
    "!mv -f \"/storage/vskovoroda/Stones/Asbest veins in the open pit conditions/part2.zip\" -t \"/storage/vskovoroda/Stones/\"\n",
    "!mv -f \"/storage/vskovoroda/Stones/Asbest veins in the open pit conditions/part1.zip\" -t \"/storage/vskovoroda/Stones/\"\n",
    "!mv -f \"/storage/vskovoroda/Stones/Asbest veins in the open pit conditions/part11.zip\" -t \"/storage/vskovoroda/Stones/\"\n",
    "!mv -f \"/storage/vskovoroda/Stones/Asbest veins in the open pit conditions/part3.zip\" -t \"/storage/vskovoroda/Stones/\""
   ]
  },
  {
   "cell_type": "code",
   "execution_count": 3,
   "id": "f904761e-0bbf-4c53-b9f1-684560b1e566",
   "metadata": {
    "collapsed": true,
    "jupyter": {
     "outputs_hidden": true
    },
    "tags": []
   },
   "outputs": [
    {
     "name": "stdout",
     "output_type": "stream",
     "text": [
      "mkdir: cannot create directory ‘/storage/vskovoroda/Stones/data/’: File exists\n",
      "mkdir: cannot create directory ‘/storage/vskovoroda/Stones/data/part1’: File exists\n",
      "mkdir: cannot create directory ‘/storage/vskovoroda/Stones/data/part2’: File exists\n",
      "mkdir: cannot create directory ‘/storage/vskovoroda/Stones/data/part3’: File exists\n",
      "mkdir: cannot create directory ‘/storage/vskovoroda/Stones/data/part4’: File exists\n",
      "mkdir: cannot create directory ‘/storage/vskovoroda/Stones/data/part5’: File exists\n"
     ]
    }
   ],
   "source": [
    "!rm -d \"/storage/vskovoroda/Stones/Asbest veins in the open pit conditions\"\n",
    "!mkdir \"/storage/vskovoroda/Stones/data/\"\n",
    "!mkdir \"/storage/vskovoroda/Stones/data/part1\"\\\n",
    "        \"/storage/vskovoroda/Stones/data/part2\"\\\n",
    "        \"/storage/vskovoroda/Stones/data/part3\"\\\n",
    "        \"/storage/vskovoroda/Stones/data/part4\"\\\n",
    "        \"/storage/vskovoroda/Stones/data/part5\""
   ]
  },
  {
   "cell_type": "code",
   "execution_count": 21,
   "id": "c430b771-00ee-4998-afb4-8c39e3447cf1",
   "metadata": {
    "tags": []
   },
   "outputs": [],
   "source": [
    "!unzip -qq -o \"/storage/vskovoroda/Stones/part1.zip\" -d \"/storage/vskovoroda/Stones/data/part1\"\n",
    "!unzip -qq -o \"/storage/vskovoroda/Stones/part2.zip\" -d \"/storage/vskovoroda/Stones/data/part2\"\n",
    "!unzip -qq -o \"/storage/vskovoroda/Stones/part3.zip\" -d \"/storage/vskovoroda/Stones/data/part3\"\n",
    "!unzip -qq -o \"/storage/vskovoroda/Stones/part11.zip\" -d \"/storage/vskovoroda/Stones/data/part4\"\n",
    "!unzip -qq -o \"/storage/vskovoroda/Stones/parts45769.zip\" -d \"/storage/vskovoroda/Stones/data/part5\""
   ]
  },
  {
   "cell_type": "code",
   "execution_count": 4,
   "id": "fc903c54-a13a-480b-8a88-2a5cb9300a95",
   "metadata": {
    "tags": []
   },
   "outputs": [],
   "source": [
    "!rm \"/storage/vskovoroda/Stones/part1.zip\"\n",
    "!rm \"/storage/vskovoroda/Stones/part2.zip\"\n",
    "!rm \"/storage/vskovoroda/Stones/part3.zip\"\n",
    "!rm \"/storage/vskovoroda/Stones/part11.zip\"\n",
    "!rm \"/storage/vskovoroda/Stones/parts45769.zip\""
   ]
  },
  {
   "cell_type": "markdown",
   "id": "e4b81dc3-cf36-419a-bde9-83b66837977b",
   "metadata": {},
   "source": [
    "## Подготовка изображений"
   ]
  },
  {
   "cell_type": "code",
   "execution_count": 1,
   "id": "045abea3-8bca-4b47-ad6a-a15c3e395d85",
   "metadata": {},
   "outputs": [],
   "source": [
    "from pycocotools.coco import COCO\n",
    "import cv2\n",
    "import os\n",
    "import json\n",
    "import numpy as np\n",
    "import multiprocessing"
   ]
  },
  {
   "cell_type": "code",
   "execution_count": 2,
   "id": "4f56dae0-592c-40aa-a51e-46c060259349",
   "metadata": {
    "tags": []
   },
   "outputs": [],
   "source": [
    "def make_mask(image):\n",
    "    global coco, part\n",
    "    # if not os.path.isfile(part + '/images/' + image['file_name']):\n",
    "    #     return\n",
    "    ann_ids = coco.getAnnIds(\n",
    "                    imgIds = image['id'], \n",
    "                    catIds = [1],  # id асбеста\n",
    "                    iscrowd=None\n",
    "                )\n",
    "    anns = coco.loadAnns(ann_ids)\n",
    "    mask = np.zeros((image['height'],image['width']))\n",
    "    for ann in anns:\n",
    "        mask = np.maximum(mask,coco.annToMask(ann))\n",
    "    \n",
    "    img = cv2.imread(part + '/images/' + image['file_name'])\n",
    "    # Сохраняем изображение\n",
    "    os.system('cp ' + part + '/images/' + image['file_name'] + ' images/' + image['file_name'][:-4] + '.bmp')\n",
    "    \n",
    "    \n",
    "    img_t = cv2.blur(img, (32, 32))\n",
    "    img[mask<1] = img_t[mask<1]\n",
    "    \n",
    "    # сохраняем blur изображение\n",
    "    cv2.imwrite(start_dir + '/blur_images/' + image['file_name'][:-4] + '.bmp', img)\n",
    "    \n",
    "    cv2.imwrite(start_dir + '/annotations/' + image['file_name'][:-4]+'.bmp', mask) # сохраняем маску\n",
    "    \n",
    "    # os.system('cp ' + part + '/images/' + image['file_name'] + ' images/' + image['file_name'][:-4] + '.bmp')\n",
    "    # os.replace(part + '/images/' + image['file_name'], 'images/' + image['file_name'][:-4] + '.bmp')"
   ]
  },
  {
   "cell_type": "code",
   "execution_count": 18,
   "id": "6e5ca7b5-9869-4c91-9997-1457ccc7ac71",
   "metadata": {
    "tags": []
   },
   "outputs": [],
   "source": [
    "!rm -dr \"/storage/vskovoroda/Stones/data/images\"\n",
    "!rm -dr \"/storage/vskovoroda/Stones/data/blur_images\"\n",
    "!rm -dr \"/storage/vskovoroda/Stones/data/annotations\""
   ]
  },
  {
   "cell_type": "code",
   "execution_count": 19,
   "id": "7bc8f17a-3d4a-4541-9293-3d3889d99923",
   "metadata": {
    "tags": []
   },
   "outputs": [
    {
     "name": "stdout",
     "output_type": "stream",
     "text": [
      "part1 Start\n",
      "loading annotations into memory...\n",
      "Done (t=0.34s)\n",
      "creating index...\n",
      "index created!\n",
      "part1 Done!\n",
      "part2 Start\n",
      "loading annotations into memory...\n",
      "Done (t=0.55s)\n",
      "creating index...\n",
      "index created!\n",
      "part2 Done!\n",
      "part3 Start\n",
      "loading annotations into memory...\n",
      "Done (t=0.92s)\n",
      "creating index...\n",
      "index created!\n",
      "part3 Done!\n",
      "part4 Start\n",
      "loading annotations into memory...\n",
      "Done (t=0.82s)\n",
      "creating index...\n",
      "index created!\n",
      "part4 Done!\n",
      "part5 Start\n",
      "loading annotations into memory...\n",
      "Done (t=0.56s)\n",
      "creating index...\n",
      "index created!\n",
      "part5 Done!\n"
     ]
    }
   ],
   "source": [
    "if not os.path.exists('images'):\n",
    "    os.mkdir('images')\n",
    "if not os.path.exists('blur_images'):\n",
    "    os.mkdir('blur_images')\n",
    "if not os.path.exists('annotations'):\n",
    "    os.mkdir('annotations')\n",
    "\n",
    "for part in ['part1', 'part2', 'part3', 'part4', 'part5']:\n",
    "    print(part, 'Start')\n",
    "    ann_file = start_dir + part + '/annotations/instances_default.json'\n",
    "    coco = COCO(ann_file)\n",
    "    pool_obj = multiprocessing.Pool()\n",
    "    pool_obj.map(make_mask, list(coco.imgs.values()))\n",
    "    print(part, 'Done!')"
   ]
  },
  {
   "cell_type": "raw",
   "id": "f233e95f-dbce-4f3b-9284-a8540e740078",
   "metadata": {
    "tags": []
   },
   "source": [
    "!rm -dr \"/storage/vskovoroda/Stones/data/part1\"\n",
    "!rm -dr \"/storage/vskovoroda/Stones/data/part2\"\n",
    "!rm -dr \"/storage/vskovoroda/Stones/data/part3\"\n",
    "!rm -dr \"/storage/vskovoroda/Stones/data/part4\"\n",
    "!rm -dr \"/storage/vskovoroda/Stones/data/part5\""
   ]
  }
 ],
 "metadata": {
  "kernelspec": {
   "display_name": "Python 3 (ipykernel)",
   "language": "python",
   "name": "python3"
  },
  "language_info": {
   "codemirror_mode": {
    "name": "ipython",
    "version": 3
   },
   "file_extension": ".py",
   "mimetype": "text/x-python",
   "name": "python",
   "nbconvert_exporter": "python",
   "pygments_lexer": "ipython3",
   "version": "3.9.13"
  }
 },
 "nbformat": 4,
 "nbformat_minor": 5
}
